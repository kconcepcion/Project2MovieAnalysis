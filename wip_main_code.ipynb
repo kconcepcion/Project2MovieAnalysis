{
 "cells": [
  {
   "cell_type": "code",
   "execution_count": null,
   "id": "820c4ea5",
   "metadata": {},
   "outputs": [],
   "source": [
    "#import dependancies\n",
    "import pandas as pd\n",
    "from sqlalchemy import create_engine\n",
    "import requests\n",
    "from bs4 import BeautifulSoup\n",
    "import pandas as pd\n",
    "import matplotlib.pyplot as plt\n",
    "import seaborn as sns\n",
    "import numpy as np"
   ]
  },
  {
   "cell_type": "markdown",
   "id": "f27a4e6e",
   "metadata": {},
   "source": [
    "<h3>Extract our CSV's into the DataFrame and Transform it</h3>"
   ]
  },
  {
   "cell_type": "code",
   "execution_count": null,
   "id": "0411d3fc",
   "metadata": {},
   "outputs": [],
   "source": [
    "# extract our kaggle movie data\n",
    "movies1 = \"movies1.csv\"\n",
    "movies1_df = pd.read_csv(movies1)\n",
    "movies1_df.head()"
   ]
  },
  {
   "cell_type": "code",
   "execution_count": null,
   "id": "37821156",
   "metadata": {},
   "outputs": [],
   "source": [
    "# Selecting only the columns that will be relevent to our inquiry\n",
    "movies1_df = movies1_df[['title', 'popularity', 'vote_average', 'release_month', 'release_year']].copy()\n",
    "movies1_df.head()"
   ]
  },
  {
   "cell_type": "code",
   "execution_count": null,
   "id": "07bf2c8e",
   "metadata": {},
   "outputs": [],
   "source": [
    "# run to verify data types\n",
    "movies1_df.dtypes"
   ]
  },
  {
   "cell_type": "code",
   "execution_count": null,
   "id": "283cace2",
   "metadata": {},
   "outputs": [],
   "source": [
    "# only include movies released in 2022 to match our movies2 data\n",
    "movies1_df.drop(movies1_df[movies1_df['release_year'] < 2022.0].index, inplace = True)\n",
    "movies1_df.head()"
   ]
  },
  {
   "cell_type": "code",
   "execution_count": null,
   "id": "657082f9",
   "metadata": {},
   "outputs": [],
   "source": [
    "# check the number of movies in 2022\n",
    "len(movies1_df)"
   ]
  },
  {
   "cell_type": "code",
   "execution_count": null,
   "id": "3dc7ab61",
   "metadata": {},
   "outputs": [],
   "source": [
    "# extract our webscraped movie data\n",
    "movies2 = \"movies2.csv\"\n",
    "movies2_df = pd.read_csv(movies2)\n",
    "movies2_df.head()"
   ]
  },
  {
   "cell_type": "code",
   "execution_count": null,
   "id": "fea8aef7",
   "metadata": {},
   "outputs": [],
   "source": [
    "# Select only the columns that will be relevent to our inquiry\n",
    "movies2_df = movies2_df[['rank', 'title', 'studio', 'release', 'gross']].copy()\n",
    "movies2_df.head()"
   ]
  },
  {
   "cell_type": "code",
   "execution_count": null,
   "id": "108bbdc0",
   "metadata": {},
   "outputs": [],
   "source": [
    "# check the number of titles in dataset 2\n",
    "len(movies2_df)"
   ]
  },
  {
   "cell_type": "code",
   "execution_count": null,
   "id": "da3059f6",
   "metadata": {},
   "outputs": [],
   "source": [
    "# Verify the data types of movies2\n",
    "movies2_df.dtypes"
   ]
  },
  {
   "cell_type": "code",
   "execution_count": null,
   "id": "fe60212e",
   "metadata": {},
   "outputs": [],
   "source": [
    "# Join the Data sets at the moment it doesnt work :c\n",
    "movies_total = movies2_df.join(movies1_df, on= 'title')"
   ]
  },
  {
   "cell_type": "code",
   "execution_count": null,
   "id": "b8693b63",
   "metadata": {},
   "outputs": [],
   "source": [
    "# Format movies1 columns\n",
    "movies1_df "
   ]
  },
  {
   "cell_type": "code",
   "execution_count": null,
   "id": "3ac456ad",
   "metadata": {},
   "outputs": [],
   "source": []
  },
  {
   "cell_type": "code",
   "execution_count": null,
   "id": "97372277",
   "metadata": {},
   "outputs": [],
   "source": []
  },
  {
   "cell_type": "markdown",
   "id": "aaddf1a2",
   "metadata": {},
   "source": [
    "<h3>Create database connection</h3> *All the following code is a place holder do not run it*"
   ]
  },
  {
   "cell_type": "code",
   "execution_count": null,
   "id": "6f487806",
   "metadata": {},
   "outputs": [],
   "source": [
    "protocol = 'postgresql'\n",
    "username = '<user name>'\n",
    "password = '<password>'\n",
    "host = 'localhost'\n",
    "port = 5432\n",
    "database_name = 'customer_db'\n",
    "rds_connection_string = f'{protocol}://{username}:{password}@{host}:{port}/{database_name}'\n",
    "engine = create_engine(rds_connection_string)"
   ]
  },
  {
   "cell_type": "code",
   "execution_count": null,
   "id": "ea60d889",
   "metadata": {},
   "outputs": [],
   "source": [
    "connection_string = \"postgres:postgres@localhost:5432/customer_db\"\n",
    "engine = create_engine(f'postgresql://{connection_string}')"
   ]
  },
  {
   "cell_type": "code",
   "execution_count": null,
   "id": "998366c8",
   "metadata": {},
   "outputs": [],
   "source": []
  },
  {
   "cell_type": "code",
   "execution_count": null,
   "id": "683804fb",
   "metadata": {},
   "outputs": [],
   "source": [
    "movies1.to_sql(name='premise', con=engine, if_exists='append', index=True)"
   ]
  },
  {
   "cell_type": "code",
   "execution_count": null,
   "id": "72e7454f",
   "metadata": {},
   "outputs": [],
   "source": [
    "movies2.to_sql(name='county', con=engine, if_exists='append', index=True)"
   ]
  }
 ],
 "metadata": {
  "kernelspec": {
   "display_name": "Python 3 (ipykernel)",
   "language": "python",
   "name": "python3"
  },
  "language_info": {
   "codemirror_mode": {
    "name": "ipython",
    "version": 3
   },
   "file_extension": ".py",
   "mimetype": "text/x-python",
   "name": "python",
   "nbconvert_exporter": "python",
   "pygments_lexer": "ipython3",
   "version": "3.9.12"
  }
 },
 "nbformat": 4,
 "nbformat_minor": 5
}
